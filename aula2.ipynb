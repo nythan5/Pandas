{
 "cells": [
  {
   "cell_type": "code",
   "execution_count": null,
   "metadata": {},
   "outputs": [],
   "source": [
    "import pandas as pd\n",
    "import numpy as np\n",
    "\n",
    "pd.set_option('display.max_columns',100) # Mudar as configurações originais do PANDAS\n",
    "pd.set_option('display.max_rows',100) # Mudar as configurações originais do PANDAS\n",
    "\n",
    "df = pd.read_csv('dados_enem.csv')\n",
    "\n",
    "df.shape"
   ]
  },
  {
   "cell_type": "code",
   "execution_count": null,
   "metadata": {},
   "outputs": [],
   "source": [
    "df.head()"
   ]
  },
  {
   "cell_type": "code",
   "execution_count": 11,
   "metadata": {},
   "outputs": [],
   "source": [
    "# Média na nota de Matematica por genero\n",
    "\n",
    "subset_tp_sexo_m = df.query('TP_SEXO ==\"M\"')\n",
    "\n",
    "subset_tp_sexo_f = df.query('TP_SEXO ==\"F\"')\n",
    "\n"
   ]
  },
  {
   "cell_type": "code",
   "execution_count": null,
   "metadata": {},
   "outputs": [],
   "source": [
    "# Nota max genero masculino\n",
    "subset_tp_sexo_m.NU_NOTA_MT.max()"
   ]
  },
  {
   "cell_type": "code",
   "execution_count": null,
   "metadata": {},
   "outputs": [],
   "source": [
    "# Nota max genero feminino\n",
    "subset_tp_sexo_f.NU_NOTA_MT.max()"
   ]
  },
  {
   "cell_type": "code",
   "execution_count": null,
   "metadata": {},
   "outputs": [],
   "source": [
    "# Nota max genero feminino\n",
    "subset_tp_sexo_f.NU_NOTA_MT.mean()"
   ]
  },
  {
   "cell_type": "code",
   "execution_count": null,
   "metadata": {},
   "outputs": [],
   "source": [
    "# Nota max genero masculino\n",
    "subset_tp_sexo_m.NU_NOTA_MT.mean()"
   ]
  },
  {
   "cell_type": "code",
   "execution_count": 19,
   "metadata": {},
   "outputs": [],
   "source": [
    "provas = df.columns[(df.columns.str.contains('NOTA')) & (~df.columns.str.contains('COMP'))].tolist()\n",
    "idCandidato = ['NU_INSCRICAO']"
   ]
  },
  {
   "cell_type": "code",
   "execution_count": null,
   "metadata": {},
   "outputs": [],
   "source": [
    "subset_tp_sexo_m[provas].agg([np.min, np.mean, np.median, np.max]).T"
   ]
  },
  {
   "cell_type": "code",
   "execution_count": null,
   "metadata": {},
   "outputs": [],
   "source": [
    "subset_tp_sexo_f[provas].agg([np.min, np.mean, np.median, np.max]).T"
   ]
  },
  {
   "cell_type": "code",
   "execution_count": null,
   "metadata": {},
   "outputs": [],
   "source": [
    "# Localizar o aluno com nota maxima\n",
    "\n",
    "id = df.NU_NOTA_MT.idxmax()\n",
    "\n",
    "df.iloc[id]"
   ]
  },
  {
   "cell_type": "code",
   "execution_count": null,
   "metadata": {},
   "outputs": [],
   "source": [
    "# Localizar o aluno com nota minima\n",
    "\n",
    "id = df.NU_NOTA_MT.idxmin()\n",
    "\n",
    "df.iloc[id]"
   ]
  },
  {
   "cell_type": "code",
   "execution_count": null,
   "metadata": {},
   "outputs": [],
   "source": [
    "# Nota minima redacao \n",
    "df[df.NU_NOTA_REDACAO != 0].NU_NOTA_REDACAO\n",
    "\n",
    "# Filtro do que é NAN not a number\n",
    "df.notna()"
   ]
  },
  {
   "cell_type": "code",
   "execution_count": 37,
   "metadata": {},
   "outputs": [],
   "source": [
    "mask_1 = df.NU_NOTA_REDACAO.notna()\n",
    "mask_2 = df.NU_NOTA_REDACAO != 0\n",
    "\n",
    "subset = df[(mask_1) & (mask_2)]\n"
   ]
  },
  {
   "cell_type": "code",
   "execution_count": null,
   "metadata": {},
   "outputs": [],
   "source": [
    "subset.NU_NOTA_REDACAO.plot(kind='box')"
   ]
  },
  {
   "cell_type": "code",
   "execution_count": null,
   "metadata": {},
   "outputs": [],
   "source": [
    "subset.NU_NOTA_REDACAO.agg([np.min, np.mean, np.median, np.max])"
   ]
  },
  {
   "cell_type": "code",
   "execution_count": null,
   "metadata": {},
   "outputs": [],
   "source": [
    "# média das colunas\n",
    "df[provas].mean(axis=0)"
   ]
  },
  {
   "cell_type": "code",
   "execution_count": null,
   "metadata": {},
   "outputs": [],
   "source": [
    "# média das linhas\n",
    "df[provas].mean(axis=1)"
   ]
  },
  {
   "cell_type": "code",
   "execution_count": null,
   "metadata": {},
   "outputs": [],
   "source": [
    "# Qual a proporção entre os generos ?\n",
    "\n",
    "df.TP_SEXO.value_counts()\n",
    "df.groupby(by=['TP_SEXO'])['NU_INSCRICAO'].count()"
   ]
  },
  {
   "cell_type": "code",
   "execution_count": null,
   "metadata": {},
   "outputs": [],
   "source": [
    "# Qual a distribuição dos alunos por tipo de escola?\n",
    "\n",
    "df.groupby(by=['TP_ESCOLA'])['NU_INSCRICAO'].count().sort_index()"
   ]
  },
  {
   "cell_type": "code",
   "execution_count": null,
   "metadata": {},
   "outputs": [],
   "source": [
    "# Qual o desempenho em matematica por tipo de escola?\n",
    "# std é o desvio padrão\n",
    "\n",
    "df.groupby(by=['TP_ESCOLA'])[['NU_NOTA_MT', 'NU_NOTA_CN']].agg([np.min, np.median, np.mean, np.std, np.max]).T"
   ]
  },
  {
   "cell_type": "code",
   "execution_count": null,
   "metadata": {},
   "outputs": [],
   "source": [
    "# Nota media por municipio\n",
    "df_visao_municipio = (\n",
    "    df\n",
    "    .query('NU_NOTA_MT != 0')\n",
    "    .groupby(by = ['NO_MUNICIPIO_PROVA','CO_MUNICIPIO_PROVA'], as_index=False)['NU_NOTA_MT']\n",
    "    .agg([np.min, np.mean, np.median, np.max])\n",
    "    .round(2)\n",
    "    .rename(columns={'NO_MUNICIPIO_PROVA': 'Municipio',\n",
    "                     'CO_MUNICIPIO_PROVA': 'COD IBGE',\n",
    "                     'min': 'Minimo_MT',\n",
    "                     'mean': 'Media_MT',\n",
    "                     'median': 'Mediana_MT',\n",
    "                     'max':'Maximo_MT'})\n",
    "    .sort_values(by= ['Maximo_MT','Media_MT', 'Mediana_MT'], ascending=False)\n",
    "    .reset_index(drop=True)\n",
    ")\n"
   ]
  },
  {
   "cell_type": "code",
   "execution_count": 121,
   "metadata": {},
   "outputs": [],
   "source": [
    "df_quantidade_inscritos = (\n",
    "    df\n",
    "    .groupby(by = ['NO_MUNICIPIO_PROVA','CO_MUNICIPIO_PROVA'], as_index=False)['NU_INSCRICAO']\n",
    "    .count()\n",
    "    .rename(columns={\n",
    "        'NO_MUNICIPIO_PROVA': 'Municipio',\n",
    "        'CO_MUNICIPIO_PROVA': 'COD IBGE',\n",
    "        'NU_INSCRICAO': 'Quantidade_inscritos'\n",
    "    })\n",
    "    .sort_values(by=['Quantidade_inscritos'], ascending=False)\n",
    ")"
   ]
  },
  {
   "cell_type": "code",
   "execution_count": 115,
   "metadata": {},
   "outputs": [],
   "source": [
    "total = df_quantidade_inscritos.Quantidade_inscritos.sum()"
   ]
  },
  {
   "cell_type": "code",
   "execution_count": 116,
   "metadata": {},
   "outputs": [],
   "source": [
    "df_quantidade_inscritos['Percentual_inscritos'] = (df_quantidade_inscritos.Quantidade_inscritos / total * 100).round(2)"
   ]
  },
  {
   "cell_type": "code",
   "execution_count": null,
   "metadata": {},
   "outputs": [],
   "source": [
    "# Juntando 2 Data Frames\n",
    "\n",
    "df_municipio = pd.merge(\n",
    "    df_visao_municipio.drop([columns = 'Municipio']),\n",
    "    df_quantidade_inscritos,\n",
    "    on = 'COD IBGE',\n",
    "    how ='inner'\n",
    ")"
   ]
  }
 ],
 "metadata": {
  "kernelspec": {
   "display_name": "venv",
   "language": "python",
   "name": "python3"
  },
  "language_info": {
   "codemirror_mode": {
    "name": "ipython",
    "version": 3
   },
   "file_extension": ".py",
   "mimetype": "text/x-python",
   "name": "python",
   "nbconvert_exporter": "python",
   "pygments_lexer": "ipython3",
   "version": "3.13.1"
  }
 },
 "nbformat": 4,
 "nbformat_minor": 2
}
