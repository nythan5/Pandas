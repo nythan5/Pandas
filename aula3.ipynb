{
 "cells": [
  {
   "cell_type": "code",
   "execution_count": 1,
   "metadata": {},
   "outputs": [],
   "source": [
    "import pandas as pd\n",
    "import numpy as np\n",
    "import geobr\n",
    "import warnings\n",
    "\n",
    "warnings.filterwarnings('ignore')\n",
    "\n",
    "pd.set_option('display.max_columns',140) # Mudar as configurações originais do PANDAS\n",
    "pd.set_option('display.max_rows',140) # Mudar as configurações originais do PANDAS\n"
   ]
  },
  {
   "cell_type": "code",
   "execution_count": 2,
   "metadata": {},
   "outputs": [],
   "source": [
    "def gerar_histograma(data_frame,\n",
    "                     variavel, \n",
    "                     bins = 30,\n",
    "                     color = 'red',\n",
    "                     xlabel = 'Variável',\n",
    "                     ylabel = 'Frequência',\n",
    "                     titulo = 'Histograma',\n",
    "                     fontsize = 15,\n",
    "                     fontweight = 'bold',\n",
    "                     figsize = (8,5)\n",
    "                    ):\n",
    "    fig, ax = plt.subplots(figsize = figsize)\n",
    "    ax.hist(data_frame[variavel], bins = bins,\n",
    "            color = color)\n",
    "    ax.set(xlabel = xlabel, ylabel = ylabel)\n",
    "    ax.set_title(titulo, fontsize = fontsize,\n",
    "                 fontweight = fontweight\n",
    "                 );\n",
    "    \n",
    "    \n",
    "def gerar_painel_barra(data_frame,\n",
    "                      var,\n",
    "                      hue,\n",
    "                      title = '',\n",
    "                      title_subplot_1 = '',\n",
    "                      title_subplot_2 = '',\n",
    "                      legend_subplot_2 = '',\n",
    "                      xlabel = 'Quantidade',\n",
    "                      ylabel = '',\n",
    "                      figsize = (12, 6)\n",
    "                     ):\n",
    "    fig, ax = plt.subplots(1, 2, figsize = figsize)\n",
    "    sns.countplot(data = data_frame,\n",
    "                  y = var,\n",
    "                  ax = ax[0])\n",
    "    sns.countplot(data = data_frame,\n",
    "                  y = var,\n",
    "                  hue = hue,\n",
    "                  ax = ax[1])\n",
    "    ax[0].set(ylabel = ylabel, xlabel = xlabel, title = title_subplot_1)\n",
    "    ax[1].set(ylabel = ylabel, xlabel = xlabel, title = title_subplot_2)\n",
    "    ax[1].legend(title = legend_subplot_2)\n",
    "    fig.suptitle(title)\n",
    "    fig.tight_layout(pad = 4)\n",
    "    \n",
    "    \n",
    "def box_plot(data, title, xlabel, ylabel, figsize = (12, 5)):\n",
    "    fig, ax = plt.subplots(figsize = figsize)\n",
    "    sns.boxplot(data = data, ax = ax)\n",
    "    ax.set(title = title, xlabel = xlabel, ylabel = ylabel)\n",
    "    \n",
    "    \n",
    "    \n",
    "\n",
    "def boxplot_por_filtro(filtro, data_frame, order = None):\n",
    "    'Gera um boxplot com filtro para o eixo x e a variável no eixo y.'\n",
    "    provas = ['MATEMATICA','CIENCIAS_NATUREZA', 'LINGUAGENS', 'HUMANAS','REDACAO']\n",
    "    filtro_tratado = ' '.join(filtro.split('_')).capitalize()\n",
    "    \n",
    "    for prova in provas:\n",
    "        prova_nome_minusculo = prova.lower()\n",
    "        fig, ax = plt.subplots(figsize = (15, 5))\n",
    "        sns.boxplot(x = filtro, y = prova, data = data_frame, ax = ax,\n",
    "                   order = order)\n",
    "        ax.set(\n",
    "            xlabel = filtro_tratado, \n",
    "               ylabel = f'Nota em {prova_nome_minusculo}', \n",
    "               title = f'Nota em {prova_nome_minusculo} filtrada por {filtro_tratado}')\n",
    "\n",
    "        \n",
    "def check_missing(df):\n",
    "    import pandas\n",
    "    if isinstance(df, pandas.core.frame.DataFrame):\n",
    "        return (((df.isnull().sum()/df.shape[0])*100).round(2)).sort_values(ascending = False)\n",
    "    return None\n",
    "        \n",
    "def show_percentage_missing(df):\n",
    "    import matplotlib.pyplot as plt\n",
    "    \n",
    "    missing = check_missing(df)\n",
    "    plt.figure(figsize = (10, 20))\n",
    "    plt.barh(y = missing.index, width = missing.values, color = 'darkgray', height = 0.7, align = 'edge')\n",
    "    plt.xlabel('% of missing values', size = 10)\n",
    "    plt.ylabel('Columns', size = 10)\n",
    "    plt.title('Missing Values', fontdict = {'color':'gray', 'weight':'bold', 'size': 12})\n",
    "    plt.grid(alpha = 0.5)\n",
    "    plt.show()\n",
    "    \n",
    "    \n",
    "    \n",
    "def feature_plot_stat(feature, data):\n",
    "    fig, ax = plt.subplots(1, 3, figsize = (15, 5))\n",
    "    fig.suptitle(f'Univariate analysis for {feature}')\n",
    "    sns.histplot(data[feature], kde = True, ax = ax[0])\n",
    "    ax[0].set_xlabel('Distribution of '+feature)\n",
    "    sns.boxplot(y = data[feature], ax = ax[1])\n",
    "    sns.violinplot(x = data[feature], ax = ax[2])\n",
    "    fig.tight_layout(pad = 3)\n",
    "\n",
    "\n",
    "def univariate_analysis(features: list, data = pd.DataFrame):\n",
    "    for feature in features:\n",
    "        feature_plot_stat(feature, data)"
   ]
  },
  {
   "cell_type": "code",
   "execution_count": 3,
   "metadata": {},
   "outputs": [],
   "source": [
    "cols_rename = {\n",
    "    'Q001': 'escolaridade_pai',\n",
    "    'Q002': 'escolaridade_mae',\n",
    "    'Q003': 'ocupacao_pai',\n",
    "    'Q004': 'ocapacao_mae',\n",
    "    'Q005': 'pessoas_residencia',\n",
    "    'Q006': 'renda_mensal_familiar',\n",
    "    'Q007': 'empregada_domestico',\n",
    "    'Q008': 'quantidade_banheiros',\n",
    "    'Q009': 'quantidade_quartos',\n",
    "    'Q010': 'quantidade_carros',\n",
    "    'Q011': 'quantidade_moto',\n",
    "    'Q012': 'geladeira',\n",
    "    'Q013': 'freezer',\n",
    "    'Q014': 'maquina_lavar',\n",
    "    'Q015': 'maquina_secar',\n",
    "    'Q016': 'microondas',\n",
    "    'Q017': 'lava_louca',\n",
    "    'Q018': 'aspirador_po',\n",
    "    'Q019': 'TV',\n",
    "    'Q020': 'DVD',\n",
    "    'Q021': 'TV_assinatura',\n",
    "    'Q022': 'celular',\n",
    "    'Q023': 'telefone_fixo',\n",
    "    'Q024': 'computador',\n",
    "    'Q025 ': 'internet',\n",
    "    'TP_DEPENDENCIA_ADM_ESC': 'TIPO_ESCOLA',\n",
    "    'TP_LOCALIZACAO_ESC':'LOCALIZACAO_ESCOLA',\n",
    "    'TP_ESCOLA':'TIPO_ESCOLA',\n",
    "    'NU_NOTA_MT':'MATEMATICA',\n",
    "    'NU_NOTA_CN':'CIENCIAS_NATUREZA',\n",
    "    'NU_NOTA_LC':'LINGUAGENS',\n",
    "    'NU_NOTA_CH':'HUMANAS',\n",
    "    'NU_NOTA_REDACAO':'REDACAO',\n",
    "    'IN_TREINEIRO':'TREINEIRO'\n",
    "    }\n",
    "\n",
    "cols_drop = ['TX_RESPOSTAS_CN', 'TX_RESPOSTAS_CH', 'TX_RESPOSTAS_LC', \n",
    "             'TX_RESPOSTAS_MT', 'TX_GABARITO_CN', 'TX_GABARITO_CH',\n",
    "             'TX_GABARITO_LC',  'TX_GABARITO_MT',  'SG_UF_PROVA',\n",
    "             'CO_PROVA_CH', 'CO_PROVA_LC','CO_PROVA_MT', 'CO_PROVA_CN'\n",
    "       ]    \n",
    "\n",
    "def editar_estado_civil(estado_civil):\n",
    "    if estado_civil==0:\n",
    "        return 'Não Informado'\n",
    "    elif estado_civil==1:\n",
    "        return 'Solteiro (a)'\n",
    "    elif estado_civil==2:\n",
    "        return 'Casado (a)'\n",
    "    elif estado_civil==3:\n",
    "        return 'Divorciado (a)'\n",
    "    else:\n",
    "        return 'Viúvo (a)'\n",
    "    \n",
    "    \n",
    "def editar_sexo(sexo):\n",
    "    if sexo == 'M':\n",
    "        return 'Masculino'\n",
    "    else:\n",
    "        return 'Feminino'\n",
    "    \n",
    "    \n",
    "#def editar_sexo(sexo):\n",
    "#    if sexo == 'M':\n",
    "#        return 'Masculino'\n",
    "#    return 'Feminino'\n",
    "    \n",
    "\n",
    "def editar_cor_raca(cor_raca):\n",
    "    if cor_raca == 0:\n",
    "        return 'Não informado'\n",
    "    elif cor_raca == 1:\n",
    "        return 'Branca'\n",
    "    elif cor_raca == 2:\n",
    "        return 'Preta'\n",
    "    elif cor_raca == 3:\n",
    "        return 'Parda'\n",
    "    elif cor_raca == 4:\n",
    "        return 'Amarela'\n",
    "    else:\n",
    "        return 'Indígena'\n",
    "    \n",
    "    \n",
    "    \n",
    "def tratar_dados(df):\n",
    "    \n",
    "    # drop de colunas\n",
    "    df = df.drop(columns = cols_drop)\n",
    "    \n",
    "    # renomear colunas\n",
    "    df = df.rename(columns = cols_rename)\n",
    "    \n",
    "    #define uma lista das provas que serão analisadas\n",
    "    provas = ['MATEMATICA','CIENCIAS_NATUREZA', 'LINGUAGENS', 'HUMANAS','REDACAO']\n",
    "    \n",
    "    # trata colunas categóricas\n",
    "    df['TP_ESTADO_CIVIL'] = df['TP_ESTADO_CIVIL'].apply(editar_estado_civil)\n",
    "    df['TP_SEXO'] = df['TP_SEXO'].apply(editar_sexo)\n",
    "    df['TP_COR_RACA'] = df['TP_COR_RACA'].apply(editar_cor_raca)\n",
    "    \n",
    "    # drop de missing\n",
    "    df = df.dropna(how = 'any', subset = provas)\n",
    "    \n",
    "        \n",
    "    return df"
   ]
  },
  {
   "cell_type": "code",
   "execution_count": 4,
   "metadata": {},
   "outputs": [],
   "source": [
    "### define uma lista das provas que serão analisadas\n",
    "provas = ['MATEMATICA','CIENCIAS_NATUREZA', 'LINGUAGENS', 'HUMANAS','REDACAO']"
   ]
  },
  {
   "cell_type": "code",
   "execution_count": 5,
   "metadata": {},
   "outputs": [
    {
     "ename": "FileNotFoundError",
     "evalue": "[Errno 2] No such file or directory: 'dados_enem_2021_BA.csv'",
     "output_type": "error",
     "traceback": [
      "\u001b[1;31m---------------------------------------------------------------------------\u001b[0m",
      "\u001b[1;31mFileNotFoundError\u001b[0m                         Traceback (most recent call last)",
      "Cell \u001b[1;32mIn[5], line 1\u001b[0m\n\u001b[1;32m----> 1\u001b[0m df_raw \u001b[38;5;241m=\u001b[39m \u001b[43mpd\u001b[49m\u001b[38;5;241;43m.\u001b[39;49m\u001b[43mread_csv\u001b[49m\u001b[43m(\u001b[49m\u001b[38;5;124;43m'\u001b[39;49m\u001b[38;5;124;43mdados_enem_2021_BA.csv\u001b[39;49m\u001b[38;5;124;43m'\u001b[39;49m\u001b[43m)\u001b[49m\n\u001b[0;32m      2\u001b[0m quest  \u001b[38;5;241m=\u001b[39m pd\u001b[38;5;241m.\u001b[39mread_csv(\u001b[38;5;124m'\u001b[39m\u001b[38;5;124mdados_enem_2021_BA_questoes_socieconomicas.csv\u001b[39m\u001b[38;5;124m'\u001b[39m)\n\u001b[0;32m      3\u001b[0m df     \u001b[38;5;241m=\u001b[39m df_raw\u001b[38;5;241m.\u001b[39mmerge(quest, on \u001b[38;5;241m=\u001b[39m \u001b[38;5;124m'\u001b[39m\u001b[38;5;124mNU_INSCRICAO\u001b[39m\u001b[38;5;124m'\u001b[39m, how \u001b[38;5;241m=\u001b[39m \u001b[38;5;124m'\u001b[39m\u001b[38;5;124minner\u001b[39m\u001b[38;5;124m'\u001b[39m)\n",
      "File \u001b[1;32mc:\\Users\\Gabriel Dias\\Documents\\Workspace\\Pandas\\venv\\Lib\\site-packages\\pandas\\io\\parsers\\readers.py:1026\u001b[0m, in \u001b[0;36mread_csv\u001b[1;34m(filepath_or_buffer, sep, delimiter, header, names, index_col, usecols, dtype, engine, converters, true_values, false_values, skipinitialspace, skiprows, skipfooter, nrows, na_values, keep_default_na, na_filter, verbose, skip_blank_lines, parse_dates, infer_datetime_format, keep_date_col, date_parser, date_format, dayfirst, cache_dates, iterator, chunksize, compression, thousands, decimal, lineterminator, quotechar, quoting, doublequote, escapechar, comment, encoding, encoding_errors, dialect, on_bad_lines, delim_whitespace, low_memory, memory_map, float_precision, storage_options, dtype_backend)\u001b[0m\n\u001b[0;32m   1013\u001b[0m kwds_defaults \u001b[38;5;241m=\u001b[39m _refine_defaults_read(\n\u001b[0;32m   1014\u001b[0m     dialect,\n\u001b[0;32m   1015\u001b[0m     delimiter,\n\u001b[1;32m   (...)\u001b[0m\n\u001b[0;32m   1022\u001b[0m     dtype_backend\u001b[38;5;241m=\u001b[39mdtype_backend,\n\u001b[0;32m   1023\u001b[0m )\n\u001b[0;32m   1024\u001b[0m kwds\u001b[38;5;241m.\u001b[39mupdate(kwds_defaults)\n\u001b[1;32m-> 1026\u001b[0m \u001b[38;5;28;01mreturn\u001b[39;00m \u001b[43m_read\u001b[49m\u001b[43m(\u001b[49m\u001b[43mfilepath_or_buffer\u001b[49m\u001b[43m,\u001b[49m\u001b[43m \u001b[49m\u001b[43mkwds\u001b[49m\u001b[43m)\u001b[49m\n",
      "File \u001b[1;32mc:\\Users\\Gabriel Dias\\Documents\\Workspace\\Pandas\\venv\\Lib\\site-packages\\pandas\\io\\parsers\\readers.py:620\u001b[0m, in \u001b[0;36m_read\u001b[1;34m(filepath_or_buffer, kwds)\u001b[0m\n\u001b[0;32m    617\u001b[0m _validate_names(kwds\u001b[38;5;241m.\u001b[39mget(\u001b[38;5;124m\"\u001b[39m\u001b[38;5;124mnames\u001b[39m\u001b[38;5;124m\"\u001b[39m, \u001b[38;5;28;01mNone\u001b[39;00m))\n\u001b[0;32m    619\u001b[0m \u001b[38;5;66;03m# Create the parser.\u001b[39;00m\n\u001b[1;32m--> 620\u001b[0m parser \u001b[38;5;241m=\u001b[39m \u001b[43mTextFileReader\u001b[49m\u001b[43m(\u001b[49m\u001b[43mfilepath_or_buffer\u001b[49m\u001b[43m,\u001b[49m\u001b[43m \u001b[49m\u001b[38;5;241;43m*\u001b[39;49m\u001b[38;5;241;43m*\u001b[39;49m\u001b[43mkwds\u001b[49m\u001b[43m)\u001b[49m\n\u001b[0;32m    622\u001b[0m \u001b[38;5;28;01mif\u001b[39;00m chunksize \u001b[38;5;129;01mor\u001b[39;00m iterator:\n\u001b[0;32m    623\u001b[0m     \u001b[38;5;28;01mreturn\u001b[39;00m parser\n",
      "File \u001b[1;32mc:\\Users\\Gabriel Dias\\Documents\\Workspace\\Pandas\\venv\\Lib\\site-packages\\pandas\\io\\parsers\\readers.py:1620\u001b[0m, in \u001b[0;36mTextFileReader.__init__\u001b[1;34m(self, f, engine, **kwds)\u001b[0m\n\u001b[0;32m   1617\u001b[0m     \u001b[38;5;28mself\u001b[39m\u001b[38;5;241m.\u001b[39moptions[\u001b[38;5;124m\"\u001b[39m\u001b[38;5;124mhas_index_names\u001b[39m\u001b[38;5;124m\"\u001b[39m] \u001b[38;5;241m=\u001b[39m kwds[\u001b[38;5;124m\"\u001b[39m\u001b[38;5;124mhas_index_names\u001b[39m\u001b[38;5;124m\"\u001b[39m]\n\u001b[0;32m   1619\u001b[0m \u001b[38;5;28mself\u001b[39m\u001b[38;5;241m.\u001b[39mhandles: IOHandles \u001b[38;5;241m|\u001b[39m \u001b[38;5;28;01mNone\u001b[39;00m \u001b[38;5;241m=\u001b[39m \u001b[38;5;28;01mNone\u001b[39;00m\n\u001b[1;32m-> 1620\u001b[0m \u001b[38;5;28mself\u001b[39m\u001b[38;5;241m.\u001b[39m_engine \u001b[38;5;241m=\u001b[39m \u001b[38;5;28;43mself\u001b[39;49m\u001b[38;5;241;43m.\u001b[39;49m\u001b[43m_make_engine\u001b[49m\u001b[43m(\u001b[49m\u001b[43mf\u001b[49m\u001b[43m,\u001b[49m\u001b[43m \u001b[49m\u001b[38;5;28;43mself\u001b[39;49m\u001b[38;5;241;43m.\u001b[39;49m\u001b[43mengine\u001b[49m\u001b[43m)\u001b[49m\n",
      "File \u001b[1;32mc:\\Users\\Gabriel Dias\\Documents\\Workspace\\Pandas\\venv\\Lib\\site-packages\\pandas\\io\\parsers\\readers.py:1880\u001b[0m, in \u001b[0;36mTextFileReader._make_engine\u001b[1;34m(self, f, engine)\u001b[0m\n\u001b[0;32m   1878\u001b[0m     \u001b[38;5;28;01mif\u001b[39;00m \u001b[38;5;124m\"\u001b[39m\u001b[38;5;124mb\u001b[39m\u001b[38;5;124m\"\u001b[39m \u001b[38;5;129;01mnot\u001b[39;00m \u001b[38;5;129;01min\u001b[39;00m mode:\n\u001b[0;32m   1879\u001b[0m         mode \u001b[38;5;241m+\u001b[39m\u001b[38;5;241m=\u001b[39m \u001b[38;5;124m\"\u001b[39m\u001b[38;5;124mb\u001b[39m\u001b[38;5;124m\"\u001b[39m\n\u001b[1;32m-> 1880\u001b[0m \u001b[38;5;28mself\u001b[39m\u001b[38;5;241m.\u001b[39mhandles \u001b[38;5;241m=\u001b[39m \u001b[43mget_handle\u001b[49m\u001b[43m(\u001b[49m\n\u001b[0;32m   1881\u001b[0m \u001b[43m    \u001b[49m\u001b[43mf\u001b[49m\u001b[43m,\u001b[49m\n\u001b[0;32m   1882\u001b[0m \u001b[43m    \u001b[49m\u001b[43mmode\u001b[49m\u001b[43m,\u001b[49m\n\u001b[0;32m   1883\u001b[0m \u001b[43m    \u001b[49m\u001b[43mencoding\u001b[49m\u001b[38;5;241;43m=\u001b[39;49m\u001b[38;5;28;43mself\u001b[39;49m\u001b[38;5;241;43m.\u001b[39;49m\u001b[43moptions\u001b[49m\u001b[38;5;241;43m.\u001b[39;49m\u001b[43mget\u001b[49m\u001b[43m(\u001b[49m\u001b[38;5;124;43m\"\u001b[39;49m\u001b[38;5;124;43mencoding\u001b[39;49m\u001b[38;5;124;43m\"\u001b[39;49m\u001b[43m,\u001b[49m\u001b[43m \u001b[49m\u001b[38;5;28;43;01mNone\u001b[39;49;00m\u001b[43m)\u001b[49m\u001b[43m,\u001b[49m\n\u001b[0;32m   1884\u001b[0m \u001b[43m    \u001b[49m\u001b[43mcompression\u001b[49m\u001b[38;5;241;43m=\u001b[39;49m\u001b[38;5;28;43mself\u001b[39;49m\u001b[38;5;241;43m.\u001b[39;49m\u001b[43moptions\u001b[49m\u001b[38;5;241;43m.\u001b[39;49m\u001b[43mget\u001b[49m\u001b[43m(\u001b[49m\u001b[38;5;124;43m\"\u001b[39;49m\u001b[38;5;124;43mcompression\u001b[39;49m\u001b[38;5;124;43m\"\u001b[39;49m\u001b[43m,\u001b[49m\u001b[43m \u001b[49m\u001b[38;5;28;43;01mNone\u001b[39;49;00m\u001b[43m)\u001b[49m\u001b[43m,\u001b[49m\n\u001b[0;32m   1885\u001b[0m \u001b[43m    \u001b[49m\u001b[43mmemory_map\u001b[49m\u001b[38;5;241;43m=\u001b[39;49m\u001b[38;5;28;43mself\u001b[39;49m\u001b[38;5;241;43m.\u001b[39;49m\u001b[43moptions\u001b[49m\u001b[38;5;241;43m.\u001b[39;49m\u001b[43mget\u001b[49m\u001b[43m(\u001b[49m\u001b[38;5;124;43m\"\u001b[39;49m\u001b[38;5;124;43mmemory_map\u001b[39;49m\u001b[38;5;124;43m\"\u001b[39;49m\u001b[43m,\u001b[49m\u001b[43m \u001b[49m\u001b[38;5;28;43;01mFalse\u001b[39;49;00m\u001b[43m)\u001b[49m\u001b[43m,\u001b[49m\n\u001b[0;32m   1886\u001b[0m \u001b[43m    \u001b[49m\u001b[43mis_text\u001b[49m\u001b[38;5;241;43m=\u001b[39;49m\u001b[43mis_text\u001b[49m\u001b[43m,\u001b[49m\n\u001b[0;32m   1887\u001b[0m \u001b[43m    \u001b[49m\u001b[43merrors\u001b[49m\u001b[38;5;241;43m=\u001b[39;49m\u001b[38;5;28;43mself\u001b[39;49m\u001b[38;5;241;43m.\u001b[39;49m\u001b[43moptions\u001b[49m\u001b[38;5;241;43m.\u001b[39;49m\u001b[43mget\u001b[49m\u001b[43m(\u001b[49m\u001b[38;5;124;43m\"\u001b[39;49m\u001b[38;5;124;43mencoding_errors\u001b[39;49m\u001b[38;5;124;43m\"\u001b[39;49m\u001b[43m,\u001b[49m\u001b[43m \u001b[49m\u001b[38;5;124;43m\"\u001b[39;49m\u001b[38;5;124;43mstrict\u001b[39;49m\u001b[38;5;124;43m\"\u001b[39;49m\u001b[43m)\u001b[49m\u001b[43m,\u001b[49m\n\u001b[0;32m   1888\u001b[0m \u001b[43m    \u001b[49m\u001b[43mstorage_options\u001b[49m\u001b[38;5;241;43m=\u001b[39;49m\u001b[38;5;28;43mself\u001b[39;49m\u001b[38;5;241;43m.\u001b[39;49m\u001b[43moptions\u001b[49m\u001b[38;5;241;43m.\u001b[39;49m\u001b[43mget\u001b[49m\u001b[43m(\u001b[49m\u001b[38;5;124;43m\"\u001b[39;49m\u001b[38;5;124;43mstorage_options\u001b[39;49m\u001b[38;5;124;43m\"\u001b[39;49m\u001b[43m,\u001b[49m\u001b[43m \u001b[49m\u001b[38;5;28;43;01mNone\u001b[39;49;00m\u001b[43m)\u001b[49m\u001b[43m,\u001b[49m\n\u001b[0;32m   1889\u001b[0m \u001b[43m\u001b[49m\u001b[43m)\u001b[49m\n\u001b[0;32m   1890\u001b[0m \u001b[38;5;28;01massert\u001b[39;00m \u001b[38;5;28mself\u001b[39m\u001b[38;5;241m.\u001b[39mhandles \u001b[38;5;129;01mis\u001b[39;00m \u001b[38;5;129;01mnot\u001b[39;00m \u001b[38;5;28;01mNone\u001b[39;00m\n\u001b[0;32m   1891\u001b[0m f \u001b[38;5;241m=\u001b[39m \u001b[38;5;28mself\u001b[39m\u001b[38;5;241m.\u001b[39mhandles\u001b[38;5;241m.\u001b[39mhandle\n",
      "File \u001b[1;32mc:\\Users\\Gabriel Dias\\Documents\\Workspace\\Pandas\\venv\\Lib\\site-packages\\pandas\\io\\common.py:873\u001b[0m, in \u001b[0;36mget_handle\u001b[1;34m(path_or_buf, mode, encoding, compression, memory_map, is_text, errors, storage_options)\u001b[0m\n\u001b[0;32m    868\u001b[0m \u001b[38;5;28;01melif\u001b[39;00m \u001b[38;5;28misinstance\u001b[39m(handle, \u001b[38;5;28mstr\u001b[39m):\n\u001b[0;32m    869\u001b[0m     \u001b[38;5;66;03m# Check whether the filename is to be opened in binary mode.\u001b[39;00m\n\u001b[0;32m    870\u001b[0m     \u001b[38;5;66;03m# Binary mode does not support 'encoding' and 'newline'.\u001b[39;00m\n\u001b[0;32m    871\u001b[0m     \u001b[38;5;28;01mif\u001b[39;00m ioargs\u001b[38;5;241m.\u001b[39mencoding \u001b[38;5;129;01mand\u001b[39;00m \u001b[38;5;124m\"\u001b[39m\u001b[38;5;124mb\u001b[39m\u001b[38;5;124m\"\u001b[39m \u001b[38;5;129;01mnot\u001b[39;00m \u001b[38;5;129;01min\u001b[39;00m ioargs\u001b[38;5;241m.\u001b[39mmode:\n\u001b[0;32m    872\u001b[0m         \u001b[38;5;66;03m# Encoding\u001b[39;00m\n\u001b[1;32m--> 873\u001b[0m         handle \u001b[38;5;241m=\u001b[39m \u001b[38;5;28;43mopen\u001b[39;49m\u001b[43m(\u001b[49m\n\u001b[0;32m    874\u001b[0m \u001b[43m            \u001b[49m\u001b[43mhandle\u001b[49m\u001b[43m,\u001b[49m\n\u001b[0;32m    875\u001b[0m \u001b[43m            \u001b[49m\u001b[43mioargs\u001b[49m\u001b[38;5;241;43m.\u001b[39;49m\u001b[43mmode\u001b[49m\u001b[43m,\u001b[49m\n\u001b[0;32m    876\u001b[0m \u001b[43m            \u001b[49m\u001b[43mencoding\u001b[49m\u001b[38;5;241;43m=\u001b[39;49m\u001b[43mioargs\u001b[49m\u001b[38;5;241;43m.\u001b[39;49m\u001b[43mencoding\u001b[49m\u001b[43m,\u001b[49m\n\u001b[0;32m    877\u001b[0m \u001b[43m            \u001b[49m\u001b[43merrors\u001b[49m\u001b[38;5;241;43m=\u001b[39;49m\u001b[43merrors\u001b[49m\u001b[43m,\u001b[49m\n\u001b[0;32m    878\u001b[0m \u001b[43m            \u001b[49m\u001b[43mnewline\u001b[49m\u001b[38;5;241;43m=\u001b[39;49m\u001b[38;5;124;43m\"\u001b[39;49m\u001b[38;5;124;43m\"\u001b[39;49m\u001b[43m,\u001b[49m\n\u001b[0;32m    879\u001b[0m \u001b[43m        \u001b[49m\u001b[43m)\u001b[49m\n\u001b[0;32m    880\u001b[0m     \u001b[38;5;28;01melse\u001b[39;00m:\n\u001b[0;32m    881\u001b[0m         \u001b[38;5;66;03m# Binary mode\u001b[39;00m\n\u001b[0;32m    882\u001b[0m         handle \u001b[38;5;241m=\u001b[39m \u001b[38;5;28mopen\u001b[39m(handle, ioargs\u001b[38;5;241m.\u001b[39mmode)\n",
      "\u001b[1;31mFileNotFoundError\u001b[0m: [Errno 2] No such file or directory: 'dados_enem_2021_BA.csv'"
     ]
    }
   ],
   "source": [
    "df_raw = pd.read_csv('dados_enem_2021_BA.csv')\n",
    "quest  = pd.read_csv('dados_enem_2021_BA_questoes_socieconomicas.csv')\n",
    "df     = df_raw.merge(quest, on = 'NU_INSCRICAO', how = 'inner')"
   ]
  },
  {
   "cell_type": "code",
   "execution_count": null,
   "metadata": {},
   "outputs": [],
   "source": [
    "# aplica a função de tratamento dos dados\n",
    "df = tratar_dados(df)\n",
    "\n",
    "df.head()"
   ]
  },
  {
   "cell_type": "markdown",
   "metadata": {},
   "source": [
    "Análise Estatística\n",
    "Nesta seção faremos algumas visualizações estatísticas com a finalidade de sumarizar os dados e suas relações."
   ]
  },
  {
   "cell_type": "code",
   "execution_count": null,
   "metadata": {},
   "outputs": [],
   "source": [
    "# filtra os dados para a condição de Treineiro\n",
    "treineiro = df.query('TREINEIRO == 1')"
   ]
  },
  {
   "cell_type": "code",
   "execution_count": null,
   "metadata": {},
   "outputs": [],
   "source": [
    "var_idade = 'TP_FAIXA_ETARIA'\n",
    "\n",
    "fig, ax = plt.subplots(3, 2, figsize = (15, 12))\n",
    "# título da figura\n",
    "fig.suptitle('Perfil etário dos inscritos no ENEM', \n",
    "             fontsize = 20, fontweight = 'bold')\n",
    "# insere um histograma da idade no eixo ax[0,0]\n",
    "ax[0, 0].hist(df[var_idade], bins = 30)\n",
    "# altera os labels do eixo ax[0,0]\n",
    "ax[0, 0].set(xlabel = 'Idade', ylabel = 'Frequência')\n",
    "ax[0, 0].set_title('Inscritos gerais')\n",
    "# insere um histograma para a idade dos treineiros no eixo ax[0,1]\n",
    "ax[0, 1].hist(treineiro[var_idade], bins = 30)\n",
    "# altera os labels do eix[0,1]\n",
    "ax[0, 1].set(xlabel = 'Idade', ylabel = 'Frequência')\n",
    "ax[0, 1].set_title('Treineiro')\n",
    "# distribuição da idade dos inscritos gerais no eixo ax[1,0] e altera os labels\n",
    "sns.distplot(df[var_idade], ax = ax[1, 0])\n",
    "ax[1, 0].set(xlabel = 'Idade', ylabel = 'Frequência', title = 'Inscritos gerais');\n",
    "# distribuição da idade dos treineiros nos eixo ax[1,1] e altera os labels\n",
    "sns.distplot(treineiro[var_idade], ax = ax[1, 1])\n",
    "ax[1, 1].set(xlabel = 'Idade', ylabel = 'Frequência', title = 'Treineiro')\n",
    "# boxplot da idade no eixo ax[2,0] e altera os labels\n",
    "sns.boxplot(data = df, x = var_idade, ax = ax[2, 0])\n",
    "ax[2, 0].set(xlabel = 'Idade', title = 'Inscritos gerais')\n",
    "# boxplot da idade no eixo ax[2,1] e altera os labels\n",
    "sns.boxplot(data = treineiro, x = var_idade, ax = ax[2, 1])\n",
    "ax[2, 1].set(xlabel = 'Idade', title = 'Treineiro')\n",
    "plt.tight_layout(pad = 4)"
   ]
  },
  {
   "cell_type": "markdown",
   "metadata": {},
   "source": [
    "Perfil de gênero"
   ]
  },
  {
   "cell_type": "code",
   "execution_count": null,
   "metadata": {},
   "outputs": [],
   "source": [
    "fig, ax = plt.subplots(figsize = (8, 5))\n",
    "sns.countplot(data = df, x = 'TP_SEXO',ax = ax)\n",
    "ax.set(xlabel = 'Sexo', ylabel = 'Quantidade')\n",
    "ax.set_title('Proporção entre os gêneros');"
   ]
  },
  {
   "cell_type": "markdown",
   "metadata": {},
   "source": [
    "Estado civil\n"
   ]
  },
  {
   "cell_type": "code",
   "execution_count": null,
   "metadata": {},
   "outputs": [],
   "source": [
    "fig, ax = plt.subplots(1,2, figsize = (12, 6))\n",
    "sns.countplot(data = df,\n",
    "             y = 'TP_ESTADO_CIVIL', ax = ax[0])\n",
    "sns.countplot(data = df,\n",
    "             y = 'TP_ESTADO_CIVIL', hue = 'TP_SEXO', ax = ax[1])\n",
    "ax[0].set(ylabel = 'Estado Civil', xlabel = 'Quantidade',title = 'Estado civil')\n",
    "ax[1].set(ylabel = 'Estado Civil', xlabel = 'Quantidade',title = 'Estado civil por gênero')\n",
    "ax[1].legend(title = 'Gênero')\n",
    "fig.suptitle('Estado civil dos inscritos')\n",
    "fig.tight_layout(pad = 4);"
   ]
  },
  {
   "cell_type": "markdown",
   "metadata": {},
   "source": [
    "Cor, raça e nacionalidade"
   ]
  },
  {
   "cell_type": "code",
   "execution_count": null,
   "metadata": {},
   "outputs": [],
   "source": [
    "gerar_painel_barra(df, 'TP_COR_RACA', 'TP_SEXO', \n",
    "                   title = 'Perfil de cor e raça dos inscritos',\n",
    "                   title_subplot_1 = 'Cor/raça',\n",
    "                   title_subplot_2 = 'Cor/raça por gênero',\n",
    "                   legend_subplot_2 = 'Gênero',\n",
    "                   ylabel = 'Cor/raça')"
   ]
  },
  {
   "cell_type": "code",
   "execution_count": null,
   "metadata": {},
   "outputs": [],
   "source": [
    "# análise univariada das provas\n",
    "univariate_analysis(provas , data = df)"
   ]
  },
  {
   "cell_type": "code",
   "execution_count": null,
   "metadata": {},
   "outputs": [],
   "source": [
    "# heatmap das provas\n",
    "fig, ax = plt.subplots()\n",
    "corr_provas = df[provas].corr()\n",
    "sns.heatmap(corr_provas, annot=True, cmap = 'Blues', ax = ax);"
   ]
  },
  {
   "cell_type": "code",
   "execution_count": null,
   "metadata": {},
   "outputs": [],
   "source": [
    "figure = sns.pairplot(df[provas+['TP_SEXO']], hue = 'TP_SEXO');"
   ]
  },
  {
   "cell_type": "code",
   "execution_count": null,
   "metadata": {},
   "outputs": [],
   "source": [
    "fig, ax = plt.subplots(figsize = (10, 10))\n",
    "sns.boxplot(data = df[provas], ax = ax);\n",
    "# sns.boxplot(data = df[provas], showfliers = False)"
   ]
  },
  {
   "cell_type": "markdown",
   "metadata": {},
   "source": [
    "Desempenho escolar por renda familiar"
   ]
  },
  {
   "cell_type": "code",
   "execution_count": null,
   "metadata": {},
   "outputs": [],
   "source": [
    "renda_ordenada = df['renda_mensal_familiar'].unique()\n",
    "renda_ordenada.sort()\n",
    "boxplot_por_filtro('renda_mensal_familiar', df, renda_ordenada)"
   ]
  },
  {
   "cell_type": "markdown",
   "metadata": {},
   "source": [
    "Desempenho por escolaridade da mãe"
   ]
  },
  {
   "cell_type": "code",
   "execution_count": null,
   "metadata": {},
   "outputs": [],
   "source": [
    "escolaridade_mae_ordenada = df['escolaridade_mae'].unique()\n",
    "escolaridade_mae_ordenada.sort()\n",
    "boxplot_por_filtro('escolaridade_mae', df, escolaridade_mae_ordenada)"
   ]
  },
  {
   "cell_type": "markdown",
   "metadata": {},
   "source": [
    "Escolaridade Pai"
   ]
  },
  {
   "cell_type": "code",
   "execution_count": null,
   "metadata": {},
   "outputs": [],
   "source": [
    "escolaridade_pai_ordenada = df['escolaridade_pai'].unique()\n",
    "escolaridade_pai_ordenada.sort()\n",
    "boxplot_por_filtro('escolaridade_pai', df, escolaridade_pai_ordenada)"
   ]
  },
  {
   "cell_type": "markdown",
   "metadata": {},
   "source": [
    "ENEM visão município e Análise Geoespacial"
   ]
  },
  {
   "cell_type": "code",
   "execution_count": null,
   "metadata": {},
   "outputs": [],
   "source": [
    "df_visao_municipio = (\n",
    "    df_raw\n",
    "    .query('NU_NOTA_MT != 0 ')\n",
    "    .groupby(by = ['NO_MUNICIPIO_PROVA', 'CO_MUNICIPIO_PROVA'], as_index = False)['NU_NOTA_MT']\n",
    "    .agg([np.min, np.mean, np.median, np.max])\n",
    "    .reset_index(drop = False)\n",
    "    .rename(\n",
    "        columns = {\n",
    "            'CO_MUNICIPIO_PROVA' : 'COD_IBGE',\n",
    "            'NO_MUNICIPIO_PROVA': 'Município',\n",
    "            'amin' : 'Mínimo_MT',\n",
    "            'mean' : 'Média_MT', \n",
    "            'median' : 'Mediana_MT',\n",
    "            'amax' : 'Máximo_MT'\n",
    "                  })\n",
    "    .sort_values(by = ['Máximo_MT', 'Média_MT', 'Mediana_MT'], ascending = False)\n",
    "    .reset_index(drop = True)\n",
    ")\n",
    "\n",
    "\n",
    "df_quantidade_inscritos = (\n",
    "    df_raw.groupby(by = ['NO_MUNICIPIO_PROVA', 'CO_MUNICIPIO_PROVA'], as_index = False)['NU_INSCRICAO']\n",
    "    .count()\n",
    "    .rename(columns = {'NO_MUNICIPIO_PROVA' : 'Município',\n",
    "                       'CO_MUNICIPIO_PROVA' : 'COD_IBGE',\n",
    "                       'NU_INSCRICAO' : 'Quantidade_inscritos'\n",
    "                      })\n",
    "    .sort_values(by = ['Quantidade_inscritos'], ascending = False)\n",
    "    .reset_index(drop = True)\n",
    ")\n",
    "\n",
    "total = df_quantidade_inscritos.Quantidade_inscritos.sum()\n",
    "\n",
    "df_quantidade_inscritos['Percentual_inscritos'] = (df_quantidade_inscritos.Quantidade_inscritos / total * 100).round(2)\n",
    "\n",
    "df_quantidade_inscritos['NU_ANO'] = 2021\n",
    "\n",
    "df_municipio = pd.merge(\n",
    "    df_visao_municipio.drop(columns = ['Município']),\n",
    "    df_quantidade_inscritos, \n",
    "    on = 'COD_IBGE',\n",
    "    how = 'inner'\n",
    ")"
   ]
  },
  {
   "cell_type": "code",
   "execution_count": null,
   "metadata": {},
   "outputs": [],
   "source": [
    "df_municipio.head()"
   ]
  },
  {
   "cell_type": "markdown",
   "metadata": {},
   "source": [
    "Quantidade Inscritos por Município"
   ]
  },
  {
   "cell_type": "code",
   "execution_count": null,
   "metadata": {},
   "outputs": [],
   "source": [
    "(df_municipio\n",
    " .nlargest(n = 20, columns = 'Quantidade_inscritos')\n",
    " .set_index('Município')['Quantidade_inscritos']\n",
    " .plot(kind = 'barh')\n",
    ")"
   ]
  },
  {
   "cell_type": "markdown",
   "metadata": {},
   "source": [
    "Análise espacial"
   ]
  },
  {
   "cell_type": "code",
   "execution_count": null,
   "metadata": {},
   "outputs": [],
   "source": [
    "# municípios BA\n",
    "ba_muni = geobr.read_municipality(code_muni=\"BA\", year=2010)"
   ]
  },
  {
   "cell_type": "code",
   "execution_count": null,
   "metadata": {},
   "outputs": [],
   "source": [
    "# plot\n",
    "fig, ax = plt.subplots(figsize=(5, 5), dpi = 150)\n",
    "\n",
    "ba_muni.plot(facecolor=\"#2D3E50\", edgecolor=\"#FEBF57\",linewidth = 0.3,  ax=ax)\n",
    "\n",
    "ax.set_title(\"Municípios BA, 2010\", fontsize=4)\n",
    "ax.axis(\"off\")"
   ]
  },
  {
   "cell_type": "code",
   "execution_count": null,
   "metadata": {},
   "outputs": [],
   "source": [
    "ba_muni.head(1)"
   ]
  },
  {
   "cell_type": "code",
   "execution_count": null,
   "metadata": {},
   "outputs": [],
   "source": [
    "df_spatial_enem = ba_muni.merge(df_municipio,\n",
    "                                left_on  = 'code_muni',\n",
    "                                right_on = 'COD_IBGE',\n",
    "                                how = 'left')"
   ]
  },
  {
   "cell_type": "code",
   "execution_count": null,
   "metadata": {},
   "outputs": [],
   "source": [
    "# verifica volumetria\n",
    "df_municipio.shape, ba_muni.shape, df_spatial_enem.shape"
   ]
  },
  {
   "cell_type": "code",
   "execution_count": null,
   "metadata": {},
   "outputs": [],
   "source": [
    "df_spatial_enem.isna().sum()"
   ]
  },
  {
   "cell_type": "code",
   "execution_count": null,
   "metadata": {},
   "outputs": [],
   "source": [
    "df_spatial_enem = df_spatial_enem.fillna(-999)"
   ]
  },
  {
   "cell_type": "code",
   "execution_count": null,
   "metadata": {},
   "outputs": [],
   "source": [
    "df_spatial_enem.isna().sum()"
   ]
  },
  {
   "cell_type": "code",
   "execution_count": null,
   "metadata": {},
   "outputs": [],
   "source": [
    "plt.rcParams.update({\"font.size\": 5})\n",
    "\n",
    "fig, ax = plt.subplots(figsize=(4, 4), dpi = 150)\n",
    "\n",
    "df_spatial_enem.plot(\n",
    "    column=\"Quantidade_inscritos\",\n",
    "    cmap=\"Blues\",\n",
    "    legend=True,\n",
    "    edgecolor=\"gray\",\n",
    "    linewidth = 0.3,\n",
    "    legend_kwds={\n",
    "        \"label\": \"Quantidade de inscritos\",\n",
    "        \"orientation\": \"vertical\",\n",
    "        \"shrink\": 0.3,\n",
    "    },\n",
    "    ax=ax,\n",
    ")\n",
    "\n",
    "ax.set_title(\"Inscritos por município no ENEM - BA, 2021\")\n",
    "ax.axis(\"off\")"
   ]
  },
  {
   "cell_type": "code",
   "execution_count": null,
   "metadata": {},
   "outputs": [],
   "source": [
    "plt.rcParams.update({\"font.size\": 5})\n",
    "\n",
    "fig, ax = plt.subplots(figsize=(4, 4), dpi = 150)\n",
    "\n",
    "df_spatial_enem.plot(\n",
    "    column=\"Máximo_MT\",\n",
    "    cmap=\"Blues\",\n",
    "    legend=True,\n",
    "    edgecolor=\"gray\",\n",
    "    linewidth = 0.3,\n",
    "    legend_kwds={\n",
    "        \"label\": \"Quantidade de inscritos\",\n",
    "        \"orientation\": \"vertical\",\n",
    "        \"shrink\": 0.3,\n",
    "    },\n",
    "    ax=ax,\n",
    ")\n",
    "\n",
    "ax.set_title(\"Inscritos por município no ENEM - BA, 2021\")\n",
    "ax.axis(\"off\")"
   ]
  }
 ],
 "metadata": {
  "kernelspec": {
   "display_name": "venv",
   "language": "python",
   "name": "python3"
  },
  "language_info": {
   "codemirror_mode": {
    "name": "ipython",
    "version": 3
   },
   "file_extension": ".py",
   "mimetype": "text/x-python",
   "name": "python",
   "nbconvert_exporter": "python",
   "pygments_lexer": "ipython3",
   "version": "3.13.1"
  }
 },
 "nbformat": 4,
 "nbformat_minor": 2
}
